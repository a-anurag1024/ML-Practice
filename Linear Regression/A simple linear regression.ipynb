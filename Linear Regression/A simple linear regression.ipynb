{
 "cells": [
  {
   "cell_type": "code",
   "execution_count": 67,
   "id": "fd889690",
   "metadata": {},
   "outputs": [],
   "source": [
    "import pandas as pd\n",
    "import numpy as np\n",
    "import matplotlib.pyplot as plt\n",
    "from pandas_profiling import profile_report\n",
    "import pickle"
   ]
  },
  {
   "cell_type": "code",
   "execution_count": 13,
   "id": "96f2319e",
   "metadata": {},
   "outputs": [],
   "source": [
    "df = pd.read_csv('ai4i2020.csv')"
   ]
  },
  {
   "cell_type": "code",
   "execution_count": 14,
   "id": "b532f2be",
   "metadata": {},
   "outputs": [
    {
     "data": {
      "text/html": [
       "<div>\n",
       "<style scoped>\n",
       "    .dataframe tbody tr th:only-of-type {\n",
       "        vertical-align: middle;\n",
       "    }\n",
       "\n",
       "    .dataframe tbody tr th {\n",
       "        vertical-align: top;\n",
       "    }\n",
       "\n",
       "    .dataframe thead th {\n",
       "        text-align: right;\n",
       "    }\n",
       "</style>\n",
       "<table border=\"1\" class=\"dataframe\">\n",
       "  <thead>\n",
       "    <tr style=\"text-align: right;\">\n",
       "      <th></th>\n",
       "      <th>UDI</th>\n",
       "      <th>Product ID</th>\n",
       "      <th>Type</th>\n",
       "      <th>Air temperature [K]</th>\n",
       "      <th>Process temperature [K]</th>\n",
       "      <th>Rotational speed [rpm]</th>\n",
       "      <th>Torque [Nm]</th>\n",
       "      <th>Tool wear [min]</th>\n",
       "      <th>Machine failure</th>\n",
       "      <th>TWF</th>\n",
       "      <th>HDF</th>\n",
       "      <th>PWF</th>\n",
       "      <th>OSF</th>\n",
       "      <th>RNF</th>\n",
       "    </tr>\n",
       "  </thead>\n",
       "  <tbody>\n",
       "    <tr>\n",
       "      <th>0</th>\n",
       "      <td>1</td>\n",
       "      <td>M14860</td>\n",
       "      <td>M</td>\n",
       "      <td>298.1</td>\n",
       "      <td>308.6</td>\n",
       "      <td>1551</td>\n",
       "      <td>42.8</td>\n",
       "      <td>0</td>\n",
       "      <td>0</td>\n",
       "      <td>0</td>\n",
       "      <td>0</td>\n",
       "      <td>0</td>\n",
       "      <td>0</td>\n",
       "      <td>0</td>\n",
       "    </tr>\n",
       "    <tr>\n",
       "      <th>1</th>\n",
       "      <td>2</td>\n",
       "      <td>L47181</td>\n",
       "      <td>L</td>\n",
       "      <td>298.2</td>\n",
       "      <td>308.7</td>\n",
       "      <td>1408</td>\n",
       "      <td>46.3</td>\n",
       "      <td>3</td>\n",
       "      <td>0</td>\n",
       "      <td>0</td>\n",
       "      <td>0</td>\n",
       "      <td>0</td>\n",
       "      <td>0</td>\n",
       "      <td>0</td>\n",
       "    </tr>\n",
       "    <tr>\n",
       "      <th>2</th>\n",
       "      <td>3</td>\n",
       "      <td>L47182</td>\n",
       "      <td>L</td>\n",
       "      <td>298.1</td>\n",
       "      <td>308.5</td>\n",
       "      <td>1498</td>\n",
       "      <td>49.4</td>\n",
       "      <td>5</td>\n",
       "      <td>0</td>\n",
       "      <td>0</td>\n",
       "      <td>0</td>\n",
       "      <td>0</td>\n",
       "      <td>0</td>\n",
       "      <td>0</td>\n",
       "    </tr>\n",
       "    <tr>\n",
       "      <th>3</th>\n",
       "      <td>4</td>\n",
       "      <td>L47183</td>\n",
       "      <td>L</td>\n",
       "      <td>298.2</td>\n",
       "      <td>308.6</td>\n",
       "      <td>1433</td>\n",
       "      <td>39.5</td>\n",
       "      <td>7</td>\n",
       "      <td>0</td>\n",
       "      <td>0</td>\n",
       "      <td>0</td>\n",
       "      <td>0</td>\n",
       "      <td>0</td>\n",
       "      <td>0</td>\n",
       "    </tr>\n",
       "    <tr>\n",
       "      <th>4</th>\n",
       "      <td>5</td>\n",
       "      <td>L47184</td>\n",
       "      <td>L</td>\n",
       "      <td>298.2</td>\n",
       "      <td>308.7</td>\n",
       "      <td>1408</td>\n",
       "      <td>40.0</td>\n",
       "      <td>9</td>\n",
       "      <td>0</td>\n",
       "      <td>0</td>\n",
       "      <td>0</td>\n",
       "      <td>0</td>\n",
       "      <td>0</td>\n",
       "      <td>0</td>\n",
       "    </tr>\n",
       "  </tbody>\n",
       "</table>\n",
       "</div>"
      ],
      "text/plain": [
       "   UDI Product ID Type  Air temperature [K]  ...  HDF  PWF  OSF  RNF\n",
       "0    1     M14860    M                298.1  ...    0    0    0    0\n",
       "1    2     L47181    L                298.2  ...    0    0    0    0\n",
       "2    3     L47182    L                298.1  ...    0    0    0    0\n",
       "3    4     L47183    L                298.2  ...    0    0    0    0\n",
       "4    5     L47184    L                298.2  ...    0    0    0    0\n",
       "\n",
       "[5 rows x 14 columns]"
      ]
     },
     "execution_count": 14,
     "metadata": {},
     "output_type": "execute_result"
    }
   ],
   "source": [
    "df.head()"
   ]
  },
  {
   "cell_type": "code",
   "execution_count": 15,
   "id": "7eee1e0f",
   "metadata": {},
   "outputs": [],
   "source": [
    "pf = profile_report.ProfileReport(df)"
   ]
  },
  {
   "cell_type": "code",
   "execution_count": 16,
   "id": "cafaea3b",
   "metadata": {},
   "outputs": [
    {
     "data": {
      "application/vnd.jupyter.widget-view+json": {
       "model_id": "a47a0339b7a04a6a889277edacd304a2",
       "version_major": 2,
       "version_minor": 0
      },
      "text/plain": [
       "Summarize dataset:   0%|          | 0/5 [00:00<?, ?it/s]"
      ]
     },
     "metadata": {},
     "output_type": "display_data"
    },
    {
     "data": {
      "application/vnd.jupyter.widget-view+json": {
       "model_id": "63a402e71f26449e8dcc15d475db1ecf",
       "version_major": 2,
       "version_minor": 0
      },
      "text/plain": [
       "Generate report structure:   0%|          | 0/1 [00:00<?, ?it/s]"
      ]
     },
     "metadata": {},
     "output_type": "display_data"
    },
    {
     "data": {
      "application/vnd.jupyter.widget-view+json": {
       "model_id": "",
       "version_major": 2,
       "version_minor": 0
      },
      "text/plain": [
       "Render widgets:   0%|          | 0/1 [00:00<?, ?it/s]"
      ]
     },
     "metadata": {},
     "output_type": "display_data"
    },
    {
     "data": {
      "application/vnd.jupyter.widget-view+json": {
       "model_id": "5273351dbf81413c82b3908bf228b60f",
       "version_major": 2,
       "version_minor": 0
      },
      "text/plain": [
       "VBox(children=(Tab(children=(Tab(children=(GridBox(children=(VBox(children=(GridspecLayout(children=(HTML(valu…"
      ]
     },
     "metadata": {},
     "output_type": "display_data"
    }
   ],
   "source": [
    "pf.to_widgets()"
   ]
  },
  {
   "cell_type": "code",
   "execution_count": 17,
   "id": "feb66ba7",
   "metadata": {},
   "outputs": [
    {
     "data": {
      "application/vnd.jupyter.widget-view+json": {
       "model_id": "ad7a178bda934f439098be8e91262c65",
       "version_major": 2,
       "version_minor": 0
      },
      "text/plain": [
       "Export report to file:   0%|          | 0/1 [00:00<?, ?it/s]"
      ]
     },
     "metadata": {},
     "output_type": "display_data"
    }
   ],
   "source": [
    "pf.to_file('pandas_profiling.html')"
   ]
  },
  {
   "cell_type": "markdown",
   "id": "b3f338fe",
   "metadata": {},
   "source": [
    "# Observations:-\n",
    "\n",
    "1. No missing values\n",
    "2. High correlations:-\n",
    "- Machine Failure with HDF, PWF, OSF, TWF\n",
    "- Air temperature with process temperature\n",
    "- Torque and Rotational Speed (negative, as expected)\n",
    "- TWF and machine failure\n",
    "  "
   ]
  },
  {
   "cell_type": "markdown",
   "id": "51940439",
   "metadata": {},
   "source": [
    "## Can Linear Regression be used here for predicting air temperature?\n",
    "\n",
    "- As air temperature is a continuous variable, categorical attributes present in the data (machine failure, HDF, PWF, OSF, TWF, RNF) can't be used to make a linear regression model.\n",
    "- Now, air temperature shows a linear trend only with the process temperature and hence it can only be used to linearly regress the air temperature."
   ]
  },
  {
   "cell_type": "markdown",
   "id": "334cc20e",
   "metadata": {},
   "source": [
    "# Model building:-"
   ]
  },
  {
   "cell_type": "code",
   "execution_count": 18,
   "id": "42b4f8ed",
   "metadata": {},
   "outputs": [],
   "source": [
    "from sklearn.linear_model import LinearRegression"
   ]
  },
  {
   "cell_type": "code",
   "execution_count": 41,
   "id": "5db0b4bb",
   "metadata": {},
   "outputs": [],
   "source": [
    "x = df[['Process temperature [K]']]"
   ]
  },
  {
   "cell_type": "code",
   "execution_count": 42,
   "id": "a6539731",
   "metadata": {},
   "outputs": [],
   "source": [
    "y = df[['Air temperature [K]']]"
   ]
  },
  {
   "cell_type": "code",
   "execution_count": 44,
   "id": "04c9740e",
   "metadata": {},
   "outputs": [],
   "source": [
    "x_train = x.iloc[0:9989] #for training the model"
   ]
  },
  {
   "cell_type": "code",
   "execution_count": 45,
   "id": "90d46b08",
   "metadata": {},
   "outputs": [],
   "source": [
    "y_train = y.iloc[0:9989] #Ffor training the model"
   ]
  },
  {
   "cell_type": "code",
   "execution_count": 46,
   "id": "ad0f9092",
   "metadata": {},
   "outputs": [],
   "source": [
    "model = LinearRegression()"
   ]
  },
  {
   "cell_type": "code",
   "execution_count": 49,
   "id": "b3ba8246",
   "metadata": {},
   "outputs": [
    {
     "data": {
      "text/plain": [
       "LinearRegression()"
      ]
     },
     "execution_count": 49,
     "metadata": {},
     "output_type": "execute_result"
    }
   ],
   "source": [
    "model.fit(x_train, y_train)"
   ]
  },
  {
   "cell_type": "code",
   "execution_count": 50,
   "id": "ee723890",
   "metadata": {},
   "outputs": [
    {
     "data": {
      "text/plain": [
       "array([[1.18161624]])"
      ]
     },
     "execution_count": 50,
     "metadata": {},
     "output_type": "execute_result"
    }
   ],
   "source": [
    "model.coef_ #slope"
   ]
  },
  {
   "cell_type": "code",
   "execution_count": 51,
   "id": "141188d9",
   "metadata": {},
   "outputs": [
    {
     "data": {
      "text/plain": [
       "array([-66.30341137])"
      ]
     },
     "execution_count": 51,
     "metadata": {},
     "output_type": "execute_result"
    }
   ],
   "source": [
    "model.intercept_ #intercept"
   ]
  },
  {
   "cell_type": "markdown",
   "id": "ee086736",
   "metadata": {},
   "source": [
    "## Saving the model"
   ]
  },
  {
   "cell_type": "code",
   "execution_count": 55,
   "id": "f2a2c312",
   "metadata": {},
   "outputs": [],
   "source": [
    "pickle.dump(model, open('model.sav', 'wb'))"
   ]
  },
  {
   "cell_type": "markdown",
   "id": "79c44933",
   "metadata": {},
   "source": [
    "## Model Accuracy"
   ]
  },
  {
   "cell_type": "code",
   "execution_count": 56,
   "id": "51d5f494",
   "metadata": {},
   "outputs": [],
   "source": [
    "model = pickle.load(open('model.sav', 'rb'))"
   ]
  },
  {
   "cell_type": "code",
   "execution_count": 59,
   "id": "dcdbab9f",
   "metadata": {},
   "outputs": [
    {
     "data": {
      "text/plain": [
       "0.7676066753270123"
      ]
     },
     "execution_count": 59,
     "metadata": {},
     "output_type": "execute_result"
    }
   ],
   "source": [
    "model.score(x_train, y_train) # given the r^2 values"
   ]
  },
  {
   "cell_type": "markdown",
   "id": "88e6b30e",
   "metadata": {},
   "source": [
    "#### An r^2 value of 0.77 is that great for accuracy"
   ]
  },
  {
   "cell_type": "markdown",
   "id": "3c840b6d",
   "metadata": {},
   "source": [
    "## Model testing"
   ]
  },
  {
   "cell_type": "code",
   "execution_count": 61,
   "id": "6a2835b8",
   "metadata": {},
   "outputs": [],
   "source": [
    "x_test = x.iloc[9989:] #testing data"
   ]
  },
  {
   "cell_type": "code",
   "execution_count": 65,
   "id": "6aaae393",
   "metadata": {},
   "outputs": [],
   "source": [
    "y_actual = y.iloc[9989:] #testing data"
   ]
  },
  {
   "cell_type": "code",
   "execution_count": 66,
   "id": "404a9f8d",
   "metadata": {},
   "outputs": [],
   "source": [
    "y_predict = model.predict(x_test)"
   ]
  },
  {
   "cell_type": "code",
   "execution_count": 71,
   "id": "d092b72a",
   "metadata": {},
   "outputs": [
    {
     "data": {
      "image/png": "[encoded data removed]",
      "text/plain": [
       "<Figure size 432x288 with 1 Axes>"
      ]
     },
     "metadata": {
      "needs_background": "light"
     },
     "output_type": "display_data"
    }
   ],
   "source": [
    "plt.plot(x_test.to_numpy(), y_predict, label = 'predicted')\n",
    "plt.scatter(x_test.to_numpy(), y_actual.to_numpy(), label = 'actual data points')\n",
    "plt.legend()\n",
    "plt.show()"
   ]
  },
  {
   "cell_type": "markdown",
   "id": "93b7b39d",
   "metadata": {},
   "source": [
    "## Hence it is quite clear from the above test c"
   ]
  }
 ],
 "metadata": {
  "kernelspec": {
   "display_name": "Python 3 (ipykernel)",
   "language": "python",
   "name": "python3"
  },
  "language_info": {
   "codemirror_mode": {
    "name": "ipython",
    "version": 3
   },
   "file_extension": ".py",
   "mimetype": "text/x-python",
   "name": "python",
   "nbconvert_exporter": "python",
   "pygments_lexer": "ipython3",
   "version": "3.9.12"
  }
 },
 "nbformat": 4,
 "nbformat_minor": 5
}
